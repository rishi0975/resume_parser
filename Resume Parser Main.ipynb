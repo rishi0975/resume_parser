{
 "cells": [
  {
   "cell_type": "markdown",
   "id": "1155b4a4",
   "metadata": {},
   "source": [
    "# Introduction:\n",
    "Resume parsing is a valuable tool that streamlines the hiring process by automating the initial resume screening. It uses advanced algorithms and natural language processing to extract key details like contact information, education, work experience, and skills from resumes. This information is organized into a structured format, making it easier for recruiters to evaluate candidates quickly and accurately.\r\n",
    "\r\n",
    "A resume parser helps recruiters filter resumes based on specific criteria, eliminating human error and ensuring consistent data extraction. It can be integrated with applicant tracking systems (ATS) to save time, reduce manual data entry, and improve efficiency in candidate evaluation. Overall, resume parsing simplifies recruitment, allowing recruiters to focus on the most promising candidates."
   ]
  },
  {
   "cell_type": "code",
   "execution_count": 97,
   "id": "f67d15f8",
   "metadata": {
    "scrolled": true
   },
   "outputs": [
    {
     "name": "stdout",
     "output_type": "stream",
     "text": [
      "Gelina Jorg \n",
      "\n",
      "9812345678 \n",
      "\n",
      "gelinajxx@yahoo.com \n",
      "\n",
      "Seattle \n",
      "\n",
      "SUMMARY \n",
      "\n",
      "Experienced Machine Learning Engineer skilled in developing predictive models and deploying AI solutions, \n",
      "\n",
      "with a focus on driving business value through ML. Proficient in Python, SQL, and simplifying technical \n",
      "insights for non-technical audiences. \n",
      "\n",
      "Technical SKILLS \n",
      "\n",
      "Python, SQL, Regression, Clustering, Tableau, LLM, OpenAI, Modeling, CNN, Excel, GitHub \n",
      "\n",
      "Key SKILLS \n",
      "\n",
      "Algorithms, Data Analysis & Manipulation, Data Visualization, Critical Thinking, Leadership, Adaptability, Curiosity \n",
      "\n",
      "EDUCATION \n",
      "\n",
      "IIT Mumbai |  Mumbai, IN \n",
      "\n",
      "Post-Graduation in Data Science \n",
      "\n",
      "•  Course Modules: \n",
      "\n",
      "Jul '20  -  Sep '22 \n",
      "\n",
      "○  Data Analysis in Excel | Analytics Problem Solving | Data Analysis using SQL | Introduction to Python \n",
      "○  Programming in Python | Python for Data Science | Inferential Statistics | Hypothesis Testing \n",
      "○  Introduction to Machine Learning and Linear Regression | Logistic Regression | Tree Models \n",
      "\n",
      "KEY PROJECTS \n",
      "\n",
      "Lead Scoring \n",
      "•  Problem Background \n",
      "X Education sells online courses to industry professionals. Interested professionals visit the website, browse \n",
      "courses, and may fill out a form to become a lead. Leads can also come from past referrals. The sales team \n",
      "\n",
      "follows up with leads through calls and emails, converting around 30% into paying customers. \n",
      "\n",
      "•  Solution \n",
      "For this case study, used several classification models to predict whether the lead is going to quantify as a hot \n",
      "lead. The steps involved for this case study are mentioned below: \n",
      "\n",
      "•  Importing Data & EDA \n",
      "•  Model Building, Model Performance Benchmarking & Model Performance Evaluation \n",
      "•  Model Diagnosis Using Probability, ROC Curve, Precision-Recall Curve \n",
      "\n",
      "•  Key Achievement: Found out the Accuracy comes around 77%, Specificity to 74%, Sensitivity to 83%, \n",
      "\n",
      "and Precision to 66%. \n",
      "\n",
      "Model creation, ROC curve analysis, and uncovering critical features for improving conversion rates were key \n",
      "aspects of my work. Also delivered detailed reports summarizing the project's insights. \n",
      "\n",
      " \n",
      " \n",
      " \n",
      " \n",
      " \n",
      " \n",
      "\f",
      "\n"
     ]
    }
   ],
   "source": [
    "from pdfminer.high_level import extract_text\n",
    " \n",
    "def extract_text_from_pdf(pdf_path):\n",
    "    return extract_text(pdf_path)\n",
    " \n",
    "if __name__ == '__main__':\n",
    "    print(extract_text_from_pdf(\"Sample_Resume1.pdf\"))"
   ]
  },
  {
   "cell_type": "markdown",
   "id": "73ff19bb",
   "metadata": {},
   "source": [
    "# Exctracting Name from Resume:\n",
    "\n",
    "The code snippet demonstrates a function that extracts text from a PDF file using pdfminer library. It then utilizes a regular expression pattern to extract a potential name from the extracted text. If a name is found, it is printed; otherwise, a \"Name not found\" message is displayed. This code can be used as a starting point for resume parsing tasks to extract names from resumes."
   ]
  },
  {
   "cell_type": "code",
   "execution_count": 99,
   "id": "82355882",
   "metadata": {},
   "outputs": [
    {
     "name": "stdout",
     "output_type": "stream",
     "text": [
      "Name: Gelina Jorg\n"
     ]
    }
   ],
   "source": [
    "import pdfminer\n",
    "import re\n",
    "\n",
    "def extract_text_from_pdf(pdf_path):\n",
    "    return extract_text(pdf_path)\n",
    "\n",
    "def extract_name_from_resume(text):\n",
    "    name = None\n",
    "\n",
    "    # Use regex pattern to find a potential name\n",
    "    pattern = r\"(\\b[A-Z][a-z]+\\b)\\s(\\b[A-Z][a-z]+\\b)\"\n",
    "    match = re.search(pattern, text)\n",
    "    if match:\n",
    "        name = match.group()\n",
    "\n",
    "    return name\n",
    "\n",
    "if __name__ == '__main__':\n",
    "    text = extract_text_from_pdf(\"Sample_Resume1.pdf\")\n",
    "    name = extract_name_from_resume(text)\n",
    "\n",
    "    if name:\n",
    "        print(\"Name:\", name)\n",
    "    else:\n",
    "        print(\"Name not found\")\n"
   ]
  },
  {
   "cell_type": "markdown",
   "id": "90c97198",
   "metadata": {},
   "source": [
    "# Exctract Contact Number:\n",
    "\n",
    "The provided code snippet defines a function to extract text from a PDF file using pdfminer. It also includes another function to extract a potential contact number from the extracted text using a regular expression pattern. The code then calls these functions to extract the contact number from a specific resume file. If a contact number is found, it is printed; otherwise, a \"Contact Number not found\" message is displayed. This code can be used as a starting point for extracting contact numbers from resumes."
   ]
  },
  {
   "cell_type": "code",
   "execution_count": 105,
   "id": "5a1ea1cd",
   "metadata": {},
   "outputs": [
    {
     "name": "stdout",
     "output_type": "stream",
     "text": [
      "Contact Number: 9812345678\n"
     ]
    }
   ],
   "source": [
    " def extract_text_from_pdf(pdf_path):\n",
    "    return extract_text(pdf_path)\n",
    "\n",
    "def extract_contact_number_from_resume(text):\n",
    "    contact_number = None\n",
    "\n",
    "    # Use regex pattern to find a potential contact number\n",
    "    #pattern = r\"\\b(?:\\+?\\d{1,3}[-.\\s]?)?\\(?\\d{3}\\)?[-.\\s]?\\d{3}[-.\\s]?\\d{4}\\b\"\n",
    "    pattern = r\"\\b(?:\\+?\\d{1,3}\\s?)?\\(?\\d{3}\\)?[-.\\s]?\\d{3}[-.\\s]?\\d{4}\\b\"\n",
    "    match = re.search(pattern, text)\n",
    "    if match:\n",
    "        contact_number = match.group()\n",
    "\n",
    "    return contact_number\n",
    "\n",
    "if __name__ == '__main__':\n",
    "    text = extract_text_from_pdf(\"Sample_Resume1.pdf\")\n",
    "    contact_number = extract_contact_number_from_resume(text)\n",
    "\n",
    "    if contact_number:\n",
    "        print(\"Contact Number:\", contact_number)\n",
    "    else:\n",
    "        print(\"Contact Number not found\")"
   ]
  },
  {
   "cell_type": "markdown",
   "id": "c3499079",
   "metadata": {},
   "source": [
    "# Exctract Email Id : \n",
    "\n",
    "The provided code snippet defines a function extract_text_from_pdf() to extract text from a PDF file using pdfminer. It also includes another function extract_email_from_resume() to extract a potential email address from the extracted text using a regular expression pattern.\n",
    "\n",
    "The code then calls these functions to extract the email address from a specific resume file. If an email address is found, it is printed as \"Email: [email address]\"; otherwise, a \"Email not found\" message is displayed.\n",
    "\n",
    "This code can be used as a starting point for extracting email addresses from resumes."
   ]
  },
  {
   "cell_type": "code",
   "execution_count": 107,
   "id": "92f0f6d6",
   "metadata": {},
   "outputs": [
    {
     "name": "stdout",
     "output_type": "stream",
     "text": [
      "Email: gelinajxx@yahoo.com\n"
     ]
    }
   ],
   "source": [
    "\n",
    "def extract_text_from_pdf(pdf_path):\n",
    "    return extract_text(pdf_path)\n",
    "\n",
    "def extract_email_from_resume(text):\n",
    "    email = None\n",
    "\n",
    "    # Use regex pattern to find a potential email address\n",
    "    pattern = r\"\\b[A-Za-z0-9._%+-]+@[A-Za-z0-9.-]+\\.[A-Za-z]{2,}\\b\"\n",
    "    match = re.search(pattern, text)\n",
    "    if match:\n",
    "        email = match.group()\n",
    "\n",
    "    return email\n",
    "\n",
    "if __name__ == '__main__':\n",
    "    text = extract_text_from_pdf(\"Sample_Resume1.pdf\")\n",
    "    email = extract_email_from_resume(text)\n",
    "\n",
    "    if email:\n",
    "        print(\"Email:\", email)\n",
    "    else:\n",
    "        print(\"Email not found\")\n"
   ]
  },
  {
   "cell_type": "markdown",
   "id": "3540ffd7",
   "metadata": {},
   "source": [
    "# Exctracting Skills:\n",
    "\n",
    "The provided code snippet includes a function extract_text_from_pdf() that extracts text from a PDF file using pdfminer. Additionally, it defines a function extract_skills_from_resume() that takes the extracted text and a list of predefined skills as input.\n",
    "\n",
    "The extract_skills_from_resume() function searches for each skill in the provided list within the resume text using regular expressions. If a skill is found, it is added to the skills list. Finally, the function returns the list of extracted skills.\n",
    "\n",
    "In the code's main section, the extract_text_from_pdf() function is called to extract the text from a specific resume file. A predefined list of skills is defined, and the extract_skills_from_resume() function is invoked with the extracted text and skills list as arguments. The extracted skills are then printed as \"Skills: [extracted skills]\" if any skills are found, otherwise, a \"No skills found\" message is displayed.\n",
    "\n",
    "This code can be utilized to extract skills from resumes by providing a list of predefined skills and the resume text. It serves as a basic framework for skill extraction and can be extended or customized to meet specific requirements."
   ]
  },
  {
   "cell_type": "code",
   "execution_count": 109,
   "id": "90a413b9",
   "metadata": {},
   "outputs": [
    {
     "name": "stdout",
     "output_type": "stream",
     "text": [
      "Skills: ['Python', 'Data Analysis', 'Machine Learning', 'SQL', 'Tableau']\n"
     ]
    }
   ],
   "source": [
    "def extract_text_from_pdf(pdf_path):\n",
    "    return extract_text(pdf_path)\n",
    "\n",
    "def extract_skills_from_resume(text, skills_list):\n",
    "    skills = []\n",
    "\n",
    "    # Search for skills in the resume text\n",
    "    for skill in skills_list:\n",
    "        pattern = r\"\\b{}\\b\".format(re.escape(skill))\n",
    "        match = re.search(pattern, text, re.IGNORECASE)\n",
    "        if match:\n",
    "            skills.append(skill)\n",
    "\n",
    "    return skills\n",
    "\n",
    "if __name__ == '__main__':\n",
    "    text = extract_text_from_pdf(\"Sample_Resume1.pdf\")\n",
    "\n",
    "    # List of predefined skills\n",
    "    skills_list = ['Python', 'Data Analysis', 'Machine Learning', 'Communication', 'Project Management', 'Deep Learning', 'SQL', 'Tableau']\n",
    "\n",
    "    extracted_skills = extract_skills_from_resume(text, skills_list)\n",
    "\n",
    "    if extracted_skills:\n",
    "        print(\"Skills:\", extracted_skills)\n",
    "    else:\n",
    "        print(\"No skills found\")\n"
   ]
  },
  {
   "cell_type": "markdown",
   "id": "44df8258",
   "metadata": {},
   "source": [
    "# Exctracting Education:\n",
    "\n",
    "The provided code snippet consists of a function extract_text_from_pdf() that extracts text from a PDF file using the pdfminer library. Additionally, it includes a function extract_education_from_resume() that takes the extracted text as input.\n",
    "\n",
    "The extract_education_from_resume() function utilizes a regular expression pattern to search for education information in the resume text. The pattern is designed to match various education degrees such as BSc, B.Tech, M.Tech, Ph.D., Bachelor's, Master's, and Ph.D., followed by the corresponding field of study.\n",
    "\n",
    "Within the code's main section, the extract_text_from_pdf() function is invoked to extract the text from a specific resume file. Then, the extract_education_from_resume() function is called with the extracted text as an argument. If any education information is found, it is appended to the education list. Finally, the list of extracted education details is printed as \"Education: [extracted_education]\" if education information is found. Otherwise, a \"No education information found\" message is displayed.\n",
    "\n",
    "This code provides a basic framework for extracting education information from resumes using regular expressions. It can be further customized or expanded to handle additional patterns or extract more specific details related to education."
   ]
  },
  {
   "cell_type": "code",
   "execution_count": 111,
   "id": "72ff2cc1",
   "metadata": {},
   "outputs": [
    {
     "name": "stdout",
     "output_type": "stream",
     "text": [
      "Education Details Found:\n",
      "- Post-Graduation\n"
     ]
    }
   ],
   "source": [
    "import re\n",
    "from pdfminer.high_level import extract_text\n",
    "\n",
    "def extract_text_from_pdf(pdf_path):\n",
    "    \"\"\"Extracts text from a PDF file.\"\"\"\n",
    "    return extract_text(pdf_path)\n",
    "\n",
    "def extract_education_section(text):\n",
    "    \"\"\"\n",
    "    Extracts education-related information using a regex pattern.\n",
    "    \n",
    "    The regex matches diverse education formats like:\n",
    "    - Post-Graduation in Data Science\n",
    "    - B. Sc. in Information Technology\n",
    "    - Bachelor of Arts\n",
    "    \"\"\"\n",
    "    # Updated regex to match various education formats\n",
    "    pattern = r\"(?i)(?:Post[-\\s]?Graduation|(?:Bachelor|B\\.S\\.|B\\.A\\.|Master|M\\.S\\.|M\\.A\\.|Ph\\.D\\.|B\\.Sc\\.|M\\.Sc\\.)\\s(?:in\\s)?(?:[A-Za-z]+\\s)*[A-Za-z]+)\"\n",
    "    \n",
    "    # Find all matches in the text\n",
    "    matches = re.findall(pattern, text)\n",
    "    \n",
    "    # Return the matched education details\n",
    "    return matches\n",
    "\n",
    "if __name__ == '__main__':\n",
    "    # Extract text from the PDF\n",
    "    text = extract_text_from_pdf(\"Sample_Resume1.pdf\")\n",
    "\n",
    "    # Extract education information\n",
    "    education_details = extract_education_section(text)\n",
    "\n",
    "    if education_details:\n",
    "        print(\"Education Details Found:\")\n",
    "        for detail in education_details:\n",
    "            print(\"-\", detail)\n",
    "    else:\n",
    "        print(\"Education details not found in the resume.\")"
   ]
  },
  {
   "cell_type": "code",
   "execution_count": 113,
   "id": "dedc044f",
   "metadata": {},
   "outputs": [
    {
     "name": "stdout",
     "output_type": "stream",
     "text": [
      "College name not found.\n"
     ]
    }
   ],
   "source": [
    "import re\n",
    "from pdfminer.high_level import extract_text\n",
    "\n",
    "def extract_text_from_pdf(pdf_path):\n",
    "    \"\"\"Extracts text from a PDF file.\"\"\"\n",
    "    return extract_text(pdf_path)\n",
    "\n",
    "def extract_college_name(text):\n",
    "    \"\"\"Extracts college names based on the presence of the word 'college'.\"\"\"\n",
    "    lines = text.split('\\n')\n",
    "    \n",
    "    # Regex pattern to match lines containing the word 'college', but allows some variation (e.g., 'University', 'Institute', etc.)\n",
    "    college_pattern = r\"(?i).*\\b(college|university|institute)\\b.*\"\n",
    "    \n",
    "    for line in lines:\n",
    "        if re.search(college_pattern, line):\n",
    "            return line.strip()\n",
    "    return None\n",
    "\n",
    "# Example usage\n",
    "if __name__ == '__main__':\n",
    "    # Extract text from the PDF\n",
    "    text = extract_text_from_pdf(\"Sample_Resume1.pdf\")\n",
    "\n",
    "    # Extract college name\n",
    "    college_name = extract_college_name(text)\n",
    "\n",
    "    if college_name:\n",
    "        print(\"College:\", college_name)\n",
    "    else:\n",
    "        print(\"College name not found.\")"
   ]
  },
  {
   "cell_type": "markdown",
   "id": "eb81c782",
   "metadata": {},
   "source": [
    "# Conclusion:\n",
    "\n",
    "To sum up, the code snippets provided illustrate a basic approach to building a resume parser. Each snippet focuses on extracting essential information such as names, contact details, email addresses, skills, and education from resumes.\r\n",
    "\r\n",
    "The parser leverages methods like regular expressions and text extraction from PDF documents, showcasing how automation can simplify the extraction of critical details from resumes.\r\n",
    "\r\n",
    "However, these snippets serve as a foundational framework that can be expanded upon and tailored to meet specific needs. For instance, adding more sophisticated patterns or algorithms could further enhance the accuracy of data extraction.\r\n",
    "\r\n",
    "Resume parsing is an important tool in automating the initial stages of recruitment, saving valuable time for recruiters by streamlining candidate screening and improving efficiency.\r\n",
    "\r\n",
    "As technology evolves, the algorithms for resume parsing will continue to improve, enabling them to process more complex formats, handle multiple languages, and extract a wider range of information. This will lead to the development of more advanced and precise resume parsing systems.\r\n",
    "\r\n",
    "In conclusion, these code snippets provide a solid starting point for creating a resume parser, highlighting the potential of automating the extraction of key information and simplifying the recruitment process for better efficiency in evaluating candidates."
   ]
  },
  {
   "cell_type": "code",
   "execution_count": null,
   "id": "085324be",
   "metadata": {},
   "outputs": [],
   "source": []
  }
 ],
 "metadata": {
  "kernelspec": {
   "display_name": "Python 3 (ipykernel)",
   "language": "python",
   "name": "python3"
  },
  "language_info": {
   "codemirror_mode": {
    "name": "ipython",
    "version": 3
   },
   "file_extension": ".py",
   "mimetype": "text/x-python",
   "name": "python",
   "nbconvert_exporter": "python",
   "pygments_lexer": "ipython3",
   "version": "3.12.4"
  }
 },
 "nbformat": 4,
 "nbformat_minor": 5
}
